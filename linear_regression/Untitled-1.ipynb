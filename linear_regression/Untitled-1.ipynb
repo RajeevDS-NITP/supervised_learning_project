{
 "cells": [
  {
   "cell_type": "code",
   "execution_count": null,
   "metadata": {},
   "outputs": [],
   "source": [
    "# Loaded variable 'df' from URI: e:\\Data-Scientist\\Projects\\supervised_learning_project\\linear_regression\\linear_regression.ipynb (mpg_df).parquet\n",
    "import pandas as pd\n",
    "df = pd.read_parquet(r'e:\\Data-Scientist\\Projects\\supervised_learning_project\\linear_regression\\linear_regression.ipynb (mpg_df).parquet')"
   ]
  }
 ],
 "metadata": {
  "kernelspec": {
   "display_name": ".venv",
   "language": "python",
   "name": "python3"
  },
  "language_info": {
   "name": "python",
   "version": "3.12.4"
  }
 },
 "nbformat": 4,
 "nbformat_minor": 2
}
